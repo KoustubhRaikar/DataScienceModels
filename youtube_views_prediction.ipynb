{
 "cells": [
  {
   "cell_type": "code",
   "execution_count": 1,
   "metadata": {},
   "outputs": [],
   "source": [
    "import pandas as pd\n",
    "import numpy as np\n",
    "import matplotlib.pyplot as plt\n",
    "import seaborn as sns"
   ]
  },
  {
   "cell_type": "code",
   "execution_count": 2,
   "metadata": {
    "scrolled": true
   },
   "outputs": [
    {
     "name": "stdout",
     "output_type": "stream",
     "text": [
      "(4533, 19)\n"
     ]
    },
    {
     "data": {
      "text/html": [
       "<div>\n",
       "<style scoped>\n",
       "    .dataframe tbody tr th:only-of-type {\n",
       "        vertical-align: middle;\n",
       "    }\n",
       "\n",
       "    .dataframe tbody tr th {\n",
       "        vertical-align: top;\n",
       "    }\n",
       "\n",
       "    .dataframe thead th {\n",
       "        text-align: right;\n",
       "    }\n",
       "</style>\n",
       "<table border=\"1\" class=\"dataframe\">\n",
       "  <thead>\n",
       "    <tr style=\"text-align: right;\">\n",
       "      <th></th>\n",
       "      <th>Video_id</th>\n",
       "      <th>publish_date</th>\n",
       "      <th>trending_date</th>\n",
       "      <th>category_id</th>\n",
       "      <th>channel_title</th>\n",
       "      <th>subscriber</th>\n",
       "      <th>title</th>\n",
       "      <th>tags</th>\n",
       "      <th>description</th>\n",
       "      <th>Trend_day_count</th>\n",
       "      <th>Tag_count</th>\n",
       "      <th>Trend_tag_count</th>\n",
       "      <th>comment_count</th>\n",
       "      <th>comment_disabled</th>\n",
       "      <th>like dislike disabled</th>\n",
       "      <th>likes</th>\n",
       "      <th>dislike</th>\n",
       "      <th>tag appered in title</th>\n",
       "      <th>views</th>\n",
       "    </tr>\n",
       "  </thead>\n",
       "  <tbody>\n",
       "    <tr>\n",
       "      <th>4531</th>\n",
       "      <td>PPD49TIn30</td>\n",
       "      <td>2018-03-04</td>\n",
       "      <td>2018-03-05</td>\n",
       "      <td>27</td>\n",
       "      <td>The Infographics Show</td>\n",
       "      <td>1607518.0</td>\n",
       "      <td>What Is Stone Man Syndrome?</td>\n",
       "      <td>stone man|stone man syndrome|fop|fibrodysplasi...</td>\n",
       "      <td>What is What Is Stone Man Syndrome? Can a pers...</td>\n",
       "      <td>7</td>\n",
       "      <td>15.0</td>\n",
       "      <td>2</td>\n",
       "      <td></td>\n",
       "      <td>False</td>\n",
       "      <td>False</td>\n",
       "      <td>11795</td>\n",
       "      <td>10139</td>\n",
       "      <td>True</td>\n",
       "      <td>492313</td>\n",
       "    </tr>\n",
       "    <tr>\n",
       "      <th>4532</th>\n",
       "      <td>LOI64QVq10</td>\n",
       "      <td>2018-03-04</td>\n",
       "      <td>2018-03-05</td>\n",
       "      <td>117</td>\n",
       "      <td>UFC - Ultimate Fighting Championship</td>\n",
       "      <td>4381391.0</td>\n",
       "      <td>UFC 222: Brian Ortega Octagon Interview</td>\n",
       "      <td>ufc|222|brian|ortega|octagon|interview|joe|rog...</td>\n",
       "      <td>Hear from Brian Ortega inside of the Octagon a...</td>\n",
       "      <td>1</td>\n",
       "      <td>18.0</td>\n",
       "      <td>6</td>\n",
       "      <td>196618</td>\n",
       "      <td>True</td>\n",
       "      <td>False</td>\n",
       "      <td>12360</td>\n",
       "      <td>7695</td>\n",
       "      <td>True</td>\n",
       "      <td>1409175</td>\n",
       "    </tr>\n",
       "  </tbody>\n",
       "</table>\n",
       "</div>"
      ],
      "text/plain": [
       "        Video_id publish_date trending_date category_id  \\\n",
       "4531  PPD49TIn30   2018-03-04    2018-03-05          27   \n",
       "4532  LOI64QVq10   2018-03-04    2018-03-05         117   \n",
       "\n",
       "                             channel_title  subscriber  \\\n",
       "4531                 The Infographics Show   1607518.0   \n",
       "4532  UFC - Ultimate Fighting Championship   4381391.0   \n",
       "\n",
       "                                        title  \\\n",
       "4531              What Is Stone Man Syndrome?   \n",
       "4532  UFC 222: Brian Ortega Octagon Interview   \n",
       "\n",
       "                                                   tags  \\\n",
       "4531  stone man|stone man syndrome|fop|fibrodysplasi...   \n",
       "4532  ufc|222|brian|ortega|octagon|interview|joe|rog...   \n",
       "\n",
       "                                            description  Trend_day_count  \\\n",
       "4531  What is What Is Stone Man Syndrome? Can a pers...                7   \n",
       "4532  Hear from Brian Ortega inside of the Octagon a...                1   \n",
       "\n",
       "      Tag_count Trend_tag_count comment_count  comment_disabled  \\\n",
       "4531       15.0               2                           False   \n",
       "4532       18.0               6        196618              True   \n",
       "\n",
       "      like dislike disabled  likes  dislike tag appered in title    views  \n",
       "4531                  False  11795    10139                 True   492313  \n",
       "4532                  False  12360     7695                 True  1409175  "
      ]
     },
     "execution_count": 2,
     "metadata": {},
     "output_type": "execute_result"
    }
   ],
   "source": [
    "#Reading the dataset from csv file\n",
    "youtube_df=pd.read_csv(r\"D:\\Python files\\Python Codes\\Youtube Views prediction\\Raw\\youtube_train.csv\",header=0)\n",
    "\n",
    "print(youtube_df.shape)\n",
    "youtube_df.tail(2)"
   ]
  },
  {
   "cell_type": "code",
   "execution_count": 3,
   "metadata": {},
   "outputs": [
    {
     "name": "stdout",
     "output_type": "stream",
     "text": [
      "Video_id                   0\n",
      "publish_date               2\n",
      "trending_date              2\n",
      "category_id                7\n",
      "channel_title              3\n",
      "subscriber                31\n",
      "title                      2\n",
      "tags                     208\n",
      "description               90\n",
      "Trend_day_count            0\n",
      "Tag_count                  1\n",
      "Trend_tag_count            1\n",
      "comment_count              0\n",
      "comment_disabled           0\n",
      "like dislike disabled      0\n",
      "likes                      0\n",
      "dislike                    0\n",
      "tag appered in title       1\n",
      "views                      0\n",
      "dtype: int64\n",
      "<class 'pandas.core.frame.DataFrame'>\n",
      "RangeIndex: 4533 entries, 0 to 4532\n",
      "Data columns (total 19 columns):\n",
      " #   Column                 Non-Null Count  Dtype  \n",
      "---  ------                 --------------  -----  \n",
      " 0   Video_id               4533 non-null   object \n",
      " 1   publish_date           4531 non-null   object \n",
      " 2   trending_date          4531 non-null   object \n",
      " 3   category_id            4526 non-null   object \n",
      " 4   channel_title          4530 non-null   object \n",
      " 5   subscriber             4502 non-null   float64\n",
      " 6   title                  4531 non-null   object \n",
      " 7   tags                   4325 non-null   object \n",
      " 8   description            4443 non-null   object \n",
      " 9   Trend_day_count        4533 non-null   int64  \n",
      " 10  Tag_count              4532 non-null   float64\n",
      " 11  Trend_tag_count        4532 non-null   object \n",
      " 12  comment_count          4533 non-null   object \n",
      " 13  comment_disabled       4533 non-null   bool   \n",
      " 14  like dislike disabled  4533 non-null   bool   \n",
      " 15  likes                  4533 non-null   int64  \n",
      " 16  dislike                4533 non-null   int64  \n",
      " 17  tag appered in title   4532 non-null   object \n",
      " 18  views                  4533 non-null   object \n",
      "dtypes: bool(2), float64(2), int64(3), object(12)\n",
      "memory usage: 611.0+ KB\n",
      "None\n"
     ]
    }
   ],
   "source": [
    "#Checking missing values in the dataset\n",
    "print(youtube_df.isnull().sum())\n",
    "print(youtube_df.info())"
   ]
  },
  {
   "cell_type": "code",
   "execution_count": 4,
   "metadata": {},
   "outputs": [],
   "source": [
    "# Removing the features that we dont think are relevant to build the model\n",
    "youtube_df=youtube_df.drop(['channel_title','title','tags','description'],axis=1)"
   ]
  },
  {
   "cell_type": "code",
   "execution_count": 5,
   "metadata": {},
   "outputs": [],
   "source": [
    "# Cleaning invalid values and converting the variables from object into numeric/datetime values"
   ]
  },
  {
   "cell_type": "code",
   "execution_count": 6,
   "metadata": {},
   "outputs": [],
   "source": [
    "youtube_df['category_id']=youtube_df['category_id'].replace(\"“24\",24)\n",
    "youtube_df['category_id']=pd.to_numeric(youtube_df['category_id'])"
   ]
  },
  {
   "cell_type": "code",
   "execution_count": 7,
   "metadata": {},
   "outputs": [],
   "source": [
    "youtube_df['Trend_tag_count']=youtube_df['Trend_tag_count'].replace(\">\",np.nan)\n",
    "youtube_df['Trend_tag_count']=youtube_df['Trend_tag_count'].astype(float)"
   ]
  },
  {
   "cell_type": "code",
   "execution_count": 8,
   "metadata": {},
   "outputs": [],
   "source": [
    "youtube_df['comment_count']=youtube_df['comment_count'].replace(\" \",np.nan)\n",
    "youtube_df['comment_count']=youtube_df['comment_count'].astype(float)"
   ]
  },
  {
   "cell_type": "code",
   "execution_count": 9,
   "metadata": {},
   "outputs": [],
   "source": [
    "youtube_df['publish_date']=pd.to_datetime(youtube_df['publish_date'])\n",
    "youtube_df['trending_date']=pd.to_datetime(youtube_df['trending_date'])\n",
    "\n",
    "#creating a feature to hold difference between publish date and trending date\n",
    "youtube_df['Trend_start_day']=youtube_df['trending_date']-youtube_df['publish_date']"
   ]
  },
  {
   "cell_type": "code",
   "execution_count": 10,
   "metadata": {},
   "outputs": [
    {
     "data": {
      "text/plain": [
       "dtype('float64')"
      ]
     },
     "execution_count": 10,
     "metadata": {},
     "output_type": "execute_result"
    }
   ],
   "source": [
    "youtube_df['Trend_start_day']=youtube_df['Trend_start_day']/np.timedelta64(1, 'D')\n",
    "youtube_df['Trend_start_day'].dtype"
   ]
  },
  {
   "cell_type": "code",
   "execution_count": 11,
   "metadata": {},
   "outputs": [
    {
     "data": {
      "text/html": [
       "<div>\n",
       "<style scoped>\n",
       "    .dataframe tbody tr th:only-of-type {\n",
       "        vertical-align: middle;\n",
       "    }\n",
       "\n",
       "    .dataframe tbody tr th {\n",
       "        vertical-align: top;\n",
       "    }\n",
       "\n",
       "    .dataframe thead th {\n",
       "        text-align: right;\n",
       "    }\n",
       "</style>\n",
       "<table border=\"1\" class=\"dataframe\">\n",
       "  <thead>\n",
       "    <tr style=\"text-align: right;\">\n",
       "      <th></th>\n",
       "      <th>Video_id</th>\n",
       "      <th>category_id</th>\n",
       "      <th>subscriber</th>\n",
       "      <th>Trend_day_count</th>\n",
       "      <th>Tag_count</th>\n",
       "      <th>Trend_tag_count</th>\n",
       "      <th>comment_count</th>\n",
       "      <th>comment_disabled</th>\n",
       "      <th>like dislike disabled</th>\n",
       "      <th>likes</th>\n",
       "      <th>dislike</th>\n",
       "      <th>tag appered in title</th>\n",
       "      <th>views</th>\n",
       "      <th>Trend_start_day</th>\n",
       "      <th>publish_year</th>\n",
       "      <th>publish_month</th>\n",
       "      <th>publish_day</th>\n",
       "      <th>trending_year</th>\n",
       "      <th>trending_month</th>\n",
       "      <th>trending_day</th>\n",
       "    </tr>\n",
       "  </thead>\n",
       "  <tbody>\n",
       "    <tr>\n",
       "      <th>0</th>\n",
       "      <td>HDR9SQc79</td>\n",
       "      <td>22.0</td>\n",
       "      <td>9086142.0</td>\n",
       "      <td>6</td>\n",
       "      <td>21.0</td>\n",
       "      <td>6.0</td>\n",
       "      <td>NaN</td>\n",
       "      <td>False</td>\n",
       "      <td>False</td>\n",
       "      <td>13342</td>\n",
       "      <td>6089</td>\n",
       "      <td>False</td>\n",
       "      <td>1978978</td>\n",
       "      <td>7.0</td>\n",
       "      <td>2017.0</td>\n",
       "      <td>11.0</td>\n",
       "      <td>13.0</td>\n",
       "      <td>2017.0</td>\n",
       "      <td>11.0</td>\n",
       "      <td>20.0</td>\n",
       "    </tr>\n",
       "    <tr>\n",
       "      <th>1</th>\n",
       "      <td>KNH52UF?48</td>\n",
       "      <td>24.0</td>\n",
       "      <td>5937292.0</td>\n",
       "      <td>1</td>\n",
       "      <td>23.0</td>\n",
       "      <td>1.0</td>\n",
       "      <td>116266.0</td>\n",
       "      <td>True</td>\n",
       "      <td>False</td>\n",
       "      <td>5761</td>\n",
       "      <td>3044</td>\n",
       "      <td>False</td>\n",
       "      <td>1487870</td>\n",
       "      <td>7.0</td>\n",
       "      <td>2017.0</td>\n",
       "      <td>11.0</td>\n",
       "      <td>13.0</td>\n",
       "      <td>2017.0</td>\n",
       "      <td>11.0</td>\n",
       "      <td>20.0</td>\n",
       "    </tr>\n",
       "  </tbody>\n",
       "</table>\n",
       "</div>"
      ],
      "text/plain": [
       "     Video_id  category_id  subscriber  Trend_day_count  Tag_count  \\\n",
       "0   HDR9SQc79         22.0   9086142.0                6       21.0   \n",
       "1  KNH52UF?48         24.0   5937292.0                1       23.0   \n",
       "\n",
       "   Trend_tag_count  comment_count  comment_disabled  like dislike disabled  \\\n",
       "0              6.0            NaN             False                  False   \n",
       "1              1.0       116266.0              True                  False   \n",
       "\n",
       "   likes  dislike tag appered in title    views  Trend_start_day  \\\n",
       "0  13342     6089                False  1978978              7.0   \n",
       "1   5761     3044                False  1487870              7.0   \n",
       "\n",
       "   publish_year  publish_month  publish_day  trending_year  trending_month  \\\n",
       "0        2017.0           11.0         13.0         2017.0            11.0   \n",
       "1        2017.0           11.0         13.0         2017.0            11.0   \n",
       "\n",
       "   trending_day  \n",
       "0          20.0  \n",
       "1          20.0  "
      ]
     },
     "execution_count": 11,
     "metadata": {},
     "output_type": "execute_result"
    }
   ],
   "source": [
    "#Splitting date feature into 3 seperate features day, month and year\n",
    "#we intend to check if any of these variables are statistcally significant to the dependent variable\n",
    "youtube_df['publish_year']=youtube_df['publish_date'].dt.year\n",
    "youtube_df['publish_month']=youtube_df['publish_date'].dt.month\n",
    "youtube_df['publish_day']=youtube_df['publish_date'].dt.day\n",
    "\n",
    "youtube_df['trending_year']=youtube_df['trending_date'].dt.year\n",
    "youtube_df['trending_month']=youtube_df['trending_date'].dt.month\n",
    "youtube_df['trending_day']=youtube_df['trending_date'].dt.day\n",
    "\n",
    "youtube_df=youtube_df.drop(['publish_date','trending_date'],axis=1)\n",
    "\n",
    "youtube_df.head(2)"
   ]
  },
  {
   "cell_type": "code",
   "execution_count": 12,
   "metadata": {},
   "outputs": [
    {
     "data": {
      "text/plain": [
       "array([False,  True])"
      ]
     },
     "execution_count": 12,
     "metadata": {},
     "output_type": "execute_result"
    }
   ],
   "source": [
    "youtube_df['tag appered in title']=youtube_df['tag appered in title'].astype(bool)\n",
    "youtube_df['tag appered in title'].unique()"
   ]
  },
  {
   "cell_type": "code",
   "execution_count": 13,
   "metadata": {},
   "outputs": [
    {
     "name": "stdout",
     "output_type": "stream",
     "text": [
      "1\n"
     ]
    }
   ],
   "source": [
    "youtube_df['views']=youtube_df['views'].replace(\"#VALUE!\",np.nan)\n",
    "print(youtube_df['views'].isnull().sum())"
   ]
  },
  {
   "cell_type": "code",
   "execution_count": 14,
   "metadata": {},
   "outputs": [],
   "source": [
    "youtube_df['views']=youtube_df['views'].astype(float)"
   ]
  },
  {
   "cell_type": "code",
   "execution_count": 15,
   "metadata": {},
   "outputs": [
    {
     "data": {
      "text/html": [
       "<div>\n",
       "<style scoped>\n",
       "    .dataframe tbody tr th:only-of-type {\n",
       "        vertical-align: middle;\n",
       "    }\n",
       "\n",
       "    .dataframe tbody tr th {\n",
       "        vertical-align: top;\n",
       "    }\n",
       "\n",
       "    .dataframe thead th {\n",
       "        text-align: right;\n",
       "    }\n",
       "</style>\n",
       "<table border=\"1\" class=\"dataframe\">\n",
       "  <thead>\n",
       "    <tr style=\"text-align: right;\">\n",
       "      <th></th>\n",
       "      <th>Video_id</th>\n",
       "      <th>category_id</th>\n",
       "      <th>subscriber</th>\n",
       "      <th>Trend_day_count</th>\n",
       "      <th>Tag_count</th>\n",
       "      <th>Trend_tag_count</th>\n",
       "      <th>comment_count</th>\n",
       "      <th>comment_disabled</th>\n",
       "      <th>like dislike disabled</th>\n",
       "      <th>likes</th>\n",
       "      <th>dislike</th>\n",
       "      <th>tag appered in title</th>\n",
       "      <th>views</th>\n",
       "      <th>Trend_start_day</th>\n",
       "      <th>publish_year</th>\n",
       "      <th>publish_month</th>\n",
       "      <th>publish_day</th>\n",
       "      <th>trending_year</th>\n",
       "      <th>trending_month</th>\n",
       "      <th>trending_day</th>\n",
       "    </tr>\n",
       "  </thead>\n",
       "  <tbody>\n",
       "    <tr>\n",
       "      <th>2421</th>\n",
       "      <td>WWW33ANN88</td>\n",
       "      <td>22.0</td>\n",
       "      <td>NaN</td>\n",
       "      <td>12</td>\n",
       "      <td>12.0</td>\n",
       "      <td>6.0</td>\n",
       "      <td>NaN</td>\n",
       "      <td>False</td>\n",
       "      <td>False</td>\n",
       "      <td>3690</td>\n",
       "      <td>3029</td>\n",
       "      <td>False</td>\n",
       "      <td>NaN</td>\n",
       "      <td>6.0</td>\n",
       "      <td>2018.0</td>\n",
       "      <td>1.0</td>\n",
       "      <td>6.0</td>\n",
       "      <td>2018.0</td>\n",
       "      <td>1.0</td>\n",
       "      <td>12.0</td>\n",
       "    </tr>\n",
       "  </tbody>\n",
       "</table>\n",
       "</div>"
      ],
      "text/plain": [
       "        Video_id  category_id  subscriber  Trend_day_count  Tag_count  \\\n",
       "2421  WWW33ANN88         22.0         NaN               12       12.0   \n",
       "\n",
       "      Trend_tag_count  comment_count  comment_disabled  like dislike disabled  \\\n",
       "2421              6.0            NaN             False                  False   \n",
       "\n",
       "      likes  dislike  tag appered in title  views  Trend_start_day  \\\n",
       "2421   3690     3029                 False    NaN              6.0   \n",
       "\n",
       "      publish_year  publish_month  publish_day  trending_year  trending_month  \\\n",
       "2421        2018.0            1.0          6.0         2018.0             1.0   \n",
       "\n",
       "      trending_day  \n",
       "2421          12.0  "
      ]
     },
     "execution_count": 15,
     "metadata": {},
     "output_type": "execute_result"
    }
   ],
   "source": [
    "#To check which row has missing 'view' column\n",
    "index=np.where(pd.isnull(youtube_df['views']))\n",
    "youtube_df.iloc[index]"
   ]
  },
  {
   "cell_type": "code",
   "execution_count": 16,
   "metadata": {},
   "outputs": [
    {
     "name": "stdout",
     "output_type": "stream",
     "text": [
      "<class 'pandas.core.frame.DataFrame'>\n",
      "RangeIndex: 4533 entries, 0 to 4532\n",
      "Data columns (total 20 columns):\n",
      " #   Column                 Non-Null Count  Dtype  \n",
      "---  ------                 --------------  -----  \n",
      " 0   Video_id               4533 non-null   object \n",
      " 1   category_id            4526 non-null   float64\n",
      " 2   subscriber             4502 non-null   float64\n",
      " 3   Trend_day_count        4533 non-null   int64  \n",
      " 4   Tag_count              4532 non-null   float64\n",
      " 5   Trend_tag_count        4531 non-null   float64\n",
      " 6   comment_count          3084 non-null   float64\n",
      " 7   comment_disabled       4533 non-null   bool   \n",
      " 8   like dislike disabled  4533 non-null   bool   \n",
      " 9   likes                  4533 non-null   int64  \n",
      " 10  dislike                4533 non-null   int64  \n",
      " 11  tag appered in title   4533 non-null   bool   \n",
      " 12  views                  4532 non-null   float64\n",
      " 13  Trend_start_day        4529 non-null   float64\n",
      " 14  publish_year           4531 non-null   float64\n",
      " 15  publish_month          4531 non-null   float64\n",
      " 16  publish_day            4531 non-null   float64\n",
      " 17  trending_year          4531 non-null   float64\n",
      " 18  trending_month         4531 non-null   float64\n",
      " 19  trending_day           4531 non-null   float64\n",
      "dtypes: bool(3), float64(13), int64(3), object(1)\n",
      "memory usage: 615.4+ KB\n"
     ]
    }
   ],
   "source": [
    "#To verify the updated datatypes for all features\n",
    "youtube_df.info()"
   ]
  },
  {
   "cell_type": "code",
   "execution_count": 17,
   "metadata": {},
   "outputs": [
    {
     "data": {
      "text/plain": [
       "Video_id                    0\n",
       "category_id                 7\n",
       "subscriber                 31\n",
       "Trend_day_count             0\n",
       "Tag_count                   1\n",
       "Trend_tag_count             2\n",
       "comment_count            1449\n",
       "comment_disabled            0\n",
       "like dislike disabled       0\n",
       "likes                       0\n",
       "dislike                     0\n",
       "tag appered in title        0\n",
       "views                       1\n",
       "Trend_start_day             4\n",
       "publish_year                2\n",
       "publish_month               2\n",
       "publish_day                 2\n",
       "trending_year               2\n",
       "trending_month              2\n",
       "trending_day                2\n",
       "dtype: int64"
      ]
     },
     "execution_count": 17,
     "metadata": {},
     "output_type": "execute_result"
    }
   ],
   "source": [
    "youtube_df.isnull().sum()"
   ]
  },
  {
   "cell_type": "code",
   "execution_count": 18,
   "metadata": {
    "scrolled": false
   },
   "outputs": [
    {
     "data": {
      "text/plain": [
       "Video_id                  0.00\n",
       "category_id               0.15\n",
       "subscriber                0.68\n",
       "Trend_day_count           0.00\n",
       "Tag_count                 0.02\n",
       "Trend_tag_count           0.04\n",
       "comment_count            31.97\n",
       "comment_disabled          0.00\n",
       "like dislike disabled     0.00\n",
       "likes                     0.00\n",
       "dislike                   0.00\n",
       "tag appered in title      0.00\n",
       "views                     0.02\n",
       "Trend_start_day           0.09\n",
       "publish_year              0.04\n",
       "publish_month             0.04\n",
       "publish_day               0.04\n",
       "trending_year             0.04\n",
       "trending_month            0.04\n",
       "trending_day              0.04\n",
       "dtype: float64"
      ]
     },
     "execution_count": 18,
     "metadata": {},
     "output_type": "execute_result"
    }
   ],
   "source": [
    "# %age of values missing in variables\n",
    "youtube_df.isnull().mean().round(4)*100"
   ]
  },
  {
   "cell_type": "code",
   "execution_count": 19,
   "metadata": {},
   "outputs": [
    {
     "data": {
      "text/plain": [
       "comment_disabled\n",
       "False    1449\n",
       "True        0\n",
       "Name: comment_count_null, dtype: int32"
      ]
     },
     "execution_count": 19,
     "metadata": {},
     "output_type": "execute_result"
    }
   ],
   "source": [
    "# 32% (1449) of comment count values are missing. Lets check if they are dependant on comment disabled\n",
    "youtube_df['comment_count_null'] = np.where(youtube_df['comment_count'].isnull(), 1, 0)\n",
    "youtube_df.groupby(['comment_disabled'])['comment_count_null'].sum()"
   ]
  },
  {
   "cell_type": "code",
   "execution_count": 20,
   "metadata": {},
   "outputs": [],
   "source": [
    "# This means all the 1449 missing comment_count are where comment_disabled= false\n",
    "# So we can convert all missing values into 0\n",
    "youtube_df['comment_count']=youtube_df['comment_count'].fillna(0)"
   ]
  },
  {
   "cell_type": "code",
   "execution_count": 21,
   "metadata": {},
   "outputs": [
    {
     "data": {
      "text/plain": [
       "(4488, 21)"
      ]
     },
     "execution_count": 21,
     "metadata": {},
     "output_type": "execute_result"
    }
   ],
   "source": [
    "# Dropping other missing values\n",
    "youtube_df=youtube_df.dropna(subset=['Trend_start_day','category_id','subscriber','Tag_count','Trend_tag_count','tag appered in title','views'],axis=0)\n",
    "youtube_df.shape"
   ]
  },
  {
   "cell_type": "code",
   "execution_count": 22,
   "metadata": {},
   "outputs": [],
   "source": [
    "# Converting Video_id categorical variable into various numeric variables\n",
    "cat_ids=pd.get_dummies(youtube_df['category_id'],prefix='cat_id',drop_first=True)\n",
    "tag_appeared=pd.get_dummies(youtube_df['tag appered in title'],prefix='tag_in_title',drop_first=True)\n",
    "comment_dis=pd.get_dummies(youtube_df['comment_disabled'],prefix='comment_disabled',drop_first=True)\n",
    "like_dislike_dis=pd.get_dummies(youtube_df['like dislike disabled'],prefix='Likes_disabled',drop_first=True)"
   ]
  },
  {
   "cell_type": "code",
   "execution_count": 23,
   "metadata": {},
   "outputs": [
    {
     "data": {
      "text/html": [
       "<div>\n",
       "<style scoped>\n",
       "    .dataframe tbody tr th:only-of-type {\n",
       "        vertical-align: middle;\n",
       "    }\n",
       "\n",
       "    .dataframe tbody tr th {\n",
       "        vertical-align: top;\n",
       "    }\n",
       "\n",
       "    .dataframe thead th {\n",
       "        text-align: right;\n",
       "    }\n",
       "</style>\n",
       "<table border=\"1\" class=\"dataframe\">\n",
       "  <thead>\n",
       "    <tr style=\"text-align: right;\">\n",
       "      <th></th>\n",
       "      <th>Video_id</th>\n",
       "      <th>category_id</th>\n",
       "      <th>subscriber</th>\n",
       "      <th>Trend_day_count</th>\n",
       "      <th>Tag_count</th>\n",
       "      <th>Trend_tag_count</th>\n",
       "      <th>comment_count</th>\n",
       "      <th>comment_disabled</th>\n",
       "      <th>like dislike disabled</th>\n",
       "      <th>likes</th>\n",
       "      <th>dislike</th>\n",
       "      <th>tag appered in title</th>\n",
       "      <th>views</th>\n",
       "      <th>Trend_start_day</th>\n",
       "      <th>publish_year</th>\n",
       "      <th>publish_month</th>\n",
       "      <th>publish_day</th>\n",
       "      <th>trending_year</th>\n",
       "      <th>trending_month</th>\n",
       "      <th>trending_day</th>\n",
       "      <th>comment_count_null</th>\n",
       "      <th>cat_id_2.0</th>\n",
       "      <th>cat_id_10.0</th>\n",
       "      <th>cat_id_15.0</th>\n",
       "      <th>cat_id_17.0</th>\n",
       "      <th>cat_id_19.0</th>\n",
       "      <th>cat_id_20.0</th>\n",
       "      <th>cat_id_22.0</th>\n",
       "      <th>cat_id_23.0</th>\n",
       "      <th>cat_id_24.0</th>\n",
       "      <th>cat_id_25.0</th>\n",
       "      <th>cat_id_26.0</th>\n",
       "      <th>cat_id_27.0</th>\n",
       "      <th>cat_id_28.0</th>\n",
       "      <th>cat_id_29.0</th>\n",
       "      <th>cat_id_43.0</th>\n",
       "      <th>cat_id_117.0</th>\n",
       "      <th>cat_id_122.0</th>\n",
       "      <th>cat_id_210.0</th>\n",
       "      <th>cat_id_224.0</th>\n",
       "      <th>cat_id_226.0</th>\n",
       "      <th>cat_id_2225.0</th>\n",
       "      <th>tag_in_title_True</th>\n",
       "      <th>comment_disabled_True</th>\n",
       "      <th>Likes_disabled_True</th>\n",
       "    </tr>\n",
       "  </thead>\n",
       "  <tbody>\n",
       "    <tr>\n",
       "      <th>0</th>\n",
       "      <td>HDR9SQc79</td>\n",
       "      <td>22.0</td>\n",
       "      <td>9086142.0</td>\n",
       "      <td>6</td>\n",
       "      <td>21.0</td>\n",
       "      <td>6.0</td>\n",
       "      <td>0.0</td>\n",
       "      <td>False</td>\n",
       "      <td>False</td>\n",
       "      <td>13342</td>\n",
       "      <td>6089</td>\n",
       "      <td>False</td>\n",
       "      <td>1978978.0</td>\n",
       "      <td>7.0</td>\n",
       "      <td>2017.0</td>\n",
       "      <td>11.0</td>\n",
       "      <td>13.0</td>\n",
       "      <td>2017.0</td>\n",
       "      <td>11.0</td>\n",
       "      <td>20.0</td>\n",
       "      <td>1</td>\n",
       "      <td>0</td>\n",
       "      <td>0</td>\n",
       "      <td>0</td>\n",
       "      <td>0</td>\n",
       "      <td>0</td>\n",
       "      <td>0</td>\n",
       "      <td>1</td>\n",
       "      <td>0</td>\n",
       "      <td>0</td>\n",
       "      <td>0</td>\n",
       "      <td>0</td>\n",
       "      <td>0</td>\n",
       "      <td>0</td>\n",
       "      <td>0</td>\n",
       "      <td>0</td>\n",
       "      <td>0</td>\n",
       "      <td>0</td>\n",
       "      <td>0</td>\n",
       "      <td>0</td>\n",
       "      <td>0</td>\n",
       "      <td>0</td>\n",
       "      <td>0</td>\n",
       "      <td>0</td>\n",
       "      <td>0</td>\n",
       "    </tr>\n",
       "    <tr>\n",
       "      <th>1</th>\n",
       "      <td>KNH52UF?48</td>\n",
       "      <td>24.0</td>\n",
       "      <td>5937292.0</td>\n",
       "      <td>1</td>\n",
       "      <td>23.0</td>\n",
       "      <td>1.0</td>\n",
       "      <td>116266.0</td>\n",
       "      <td>True</td>\n",
       "      <td>False</td>\n",
       "      <td>5761</td>\n",
       "      <td>3044</td>\n",
       "      <td>False</td>\n",
       "      <td>1487870.0</td>\n",
       "      <td>7.0</td>\n",
       "      <td>2017.0</td>\n",
       "      <td>11.0</td>\n",
       "      <td>13.0</td>\n",
       "      <td>2017.0</td>\n",
       "      <td>11.0</td>\n",
       "      <td>20.0</td>\n",
       "      <td>0</td>\n",
       "      <td>0</td>\n",
       "      <td>0</td>\n",
       "      <td>0</td>\n",
       "      <td>0</td>\n",
       "      <td>0</td>\n",
       "      <td>0</td>\n",
       "      <td>0</td>\n",
       "      <td>0</td>\n",
       "      <td>1</td>\n",
       "      <td>0</td>\n",
       "      <td>0</td>\n",
       "      <td>0</td>\n",
       "      <td>0</td>\n",
       "      <td>0</td>\n",
       "      <td>0</td>\n",
       "      <td>0</td>\n",
       "      <td>0</td>\n",
       "      <td>0</td>\n",
       "      <td>0</td>\n",
       "      <td>0</td>\n",
       "      <td>0</td>\n",
       "      <td>0</td>\n",
       "      <td>1</td>\n",
       "      <td>0</td>\n",
       "    </tr>\n",
       "  </tbody>\n",
       "</table>\n",
       "</div>"
      ],
      "text/plain": [
       "     Video_id  category_id  subscriber  Trend_day_count  Tag_count  \\\n",
       "0   HDR9SQc79         22.0   9086142.0                6       21.0   \n",
       "1  KNH52UF?48         24.0   5937292.0                1       23.0   \n",
       "\n",
       "   Trend_tag_count  comment_count  comment_disabled  like dislike disabled  \\\n",
       "0              6.0            0.0             False                  False   \n",
       "1              1.0       116266.0              True                  False   \n",
       "\n",
       "   likes  dislike  tag appered in title      views  Trend_start_day  \\\n",
       "0  13342     6089                 False  1978978.0              7.0   \n",
       "1   5761     3044                 False  1487870.0              7.0   \n",
       "\n",
       "   publish_year  publish_month  publish_day  trending_year  trending_month  \\\n",
       "0        2017.0           11.0         13.0         2017.0            11.0   \n",
       "1        2017.0           11.0         13.0         2017.0            11.0   \n",
       "\n",
       "   trending_day  comment_count_null  cat_id_2.0  cat_id_10.0  cat_id_15.0  \\\n",
       "0          20.0                   1           0            0            0   \n",
       "1          20.0                   0           0            0            0   \n",
       "\n",
       "   cat_id_17.0  cat_id_19.0  cat_id_20.0  cat_id_22.0  cat_id_23.0  \\\n",
       "0            0            0            0            1            0   \n",
       "1            0            0            0            0            0   \n",
       "\n",
       "   cat_id_24.0  cat_id_25.0  cat_id_26.0  cat_id_27.0  cat_id_28.0  \\\n",
       "0            0            0            0            0            0   \n",
       "1            1            0            0            0            0   \n",
       "\n",
       "   cat_id_29.0  cat_id_43.0  cat_id_117.0  cat_id_122.0  cat_id_210.0  \\\n",
       "0            0            0             0             0             0   \n",
       "1            0            0             0             0             0   \n",
       "\n",
       "   cat_id_224.0  cat_id_226.0  cat_id_2225.0  tag_in_title_True  \\\n",
       "0             0             0              0                  0   \n",
       "1             0             0              0                  0   \n",
       "\n",
       "   comment_disabled_True  Likes_disabled_True  \n",
       "0                      0                    0  \n",
       "1                      1                    0  "
      ]
     },
     "execution_count": 23,
     "metadata": {},
     "output_type": "execute_result"
    }
   ],
   "source": [
    "#To join new DF with existing DF use concat as the DF after get_dummies misses the indexes. \n",
    "youtube_df=pd.concat([youtube_df,cat_ids,tag_appeared,comment_dis,like_dislike_dis],axis=1)\n",
    "pd.set_option('display.max_columns', None) # Shows all columns instead of showing '...' in between\n",
    "youtube_df.head(2)"
   ]
  },
  {
   "cell_type": "code",
   "execution_count": 24,
   "metadata": {},
   "outputs": [
    {
     "data": {
      "text/plain": [
       "(4488, 45)"
      ]
     },
     "execution_count": 24,
     "metadata": {},
     "output_type": "execute_result"
    }
   ],
   "source": [
    "youtube_df.shape"
   ]
  },
  {
   "cell_type": "code",
   "execution_count": 25,
   "metadata": {},
   "outputs": [],
   "source": [
    "# Dropping the variables for which dummies have been created\n",
    "youtube_df=youtube_df.drop(['Video_id','category_id','tag appered in title','comment_disabled','like dislike disabled','comment_count_null'],axis=1)"
   ]
  },
  {
   "cell_type": "code",
   "execution_count": 26,
   "metadata": {},
   "outputs": [
    {
     "data": {
      "text/plain": [
       "subscriber               0\n",
       "Trend_day_count          0\n",
       "Tag_count                0\n",
       "Trend_tag_count          0\n",
       "comment_count            0\n",
       "likes                    0\n",
       "dislike                  0\n",
       "views                    0\n",
       "Trend_start_day          0\n",
       "publish_year             0\n",
       "publish_month            0\n",
       "publish_day              0\n",
       "trending_year            0\n",
       "trending_month           0\n",
       "trending_day             0\n",
       "cat_id_2.0               0\n",
       "cat_id_10.0              0\n",
       "cat_id_15.0              0\n",
       "cat_id_17.0              0\n",
       "cat_id_19.0              0\n",
       "cat_id_20.0              0\n",
       "cat_id_22.0              0\n",
       "cat_id_23.0              0\n",
       "cat_id_24.0              0\n",
       "cat_id_25.0              0\n",
       "cat_id_26.0              0\n",
       "cat_id_27.0              0\n",
       "cat_id_28.0              0\n",
       "cat_id_29.0              0\n",
       "cat_id_43.0              0\n",
       "cat_id_117.0             0\n",
       "cat_id_122.0             0\n",
       "cat_id_210.0             0\n",
       "cat_id_224.0             0\n",
       "cat_id_226.0             0\n",
       "cat_id_2225.0            0\n",
       "tag_in_title_True        0\n",
       "comment_disabled_True    0\n",
       "Likes_disabled_True      0\n",
       "dtype: int64"
      ]
     },
     "execution_count": 26,
     "metadata": {},
     "output_type": "execute_result"
    }
   ],
   "source": [
    "youtube_df.isnull().sum()"
   ]
  },
  {
   "cell_type": "code",
   "execution_count": 27,
   "metadata": {},
   "outputs": [
    {
     "data": {
      "text/html": [
       "<div>\n",
       "<style scoped>\n",
       "    .dataframe tbody tr th:only-of-type {\n",
       "        vertical-align: middle;\n",
       "    }\n",
       "\n",
       "    .dataframe tbody tr th {\n",
       "        vertical-align: top;\n",
       "    }\n",
       "\n",
       "    .dataframe thead th {\n",
       "        text-align: right;\n",
       "    }\n",
       "</style>\n",
       "<table border=\"1\" class=\"dataframe\">\n",
       "  <thead>\n",
       "    <tr style=\"text-align: right;\">\n",
       "      <th></th>\n",
       "      <th>subscriber</th>\n",
       "      <th>Trend_day_count</th>\n",
       "      <th>Tag_count</th>\n",
       "      <th>Trend_tag_count</th>\n",
       "      <th>comment_count</th>\n",
       "      <th>likes</th>\n",
       "      <th>dislike</th>\n",
       "      <th>views</th>\n",
       "      <th>Trend_start_day</th>\n",
       "      <th>publish_year</th>\n",
       "    </tr>\n",
       "  </thead>\n",
       "  <tbody>\n",
       "    <tr>\n",
       "      <th>subscriber</th>\n",
       "      <td>1.00</td>\n",
       "      <td>-0.00</td>\n",
       "      <td>-0.00</td>\n",
       "      <td>-0.00</td>\n",
       "      <td>0.00</td>\n",
       "      <td>-0.01</td>\n",
       "      <td>-0.02</td>\n",
       "      <td>0.01</td>\n",
       "      <td>-0.02</td>\n",
       "      <td>-0.00</td>\n",
       "    </tr>\n",
       "    <tr>\n",
       "      <th>Trend_day_count</th>\n",
       "      <td>-0.00</td>\n",
       "      <td>1.00</td>\n",
       "      <td>-0.00</td>\n",
       "      <td>0.00</td>\n",
       "      <td>0.00</td>\n",
       "      <td>0.00</td>\n",
       "      <td>0.01</td>\n",
       "      <td>-0.00</td>\n",
       "      <td>-0.00</td>\n",
       "      <td>-0.01</td>\n",
       "    </tr>\n",
       "    <tr>\n",
       "      <th>Tag_count</th>\n",
       "      <td>-0.00</td>\n",
       "      <td>-0.00</td>\n",
       "      <td>1.00</td>\n",
       "      <td>0.00</td>\n",
       "      <td>0.00</td>\n",
       "      <td>-0.01</td>\n",
       "      <td>-0.03</td>\n",
       "      <td>-0.00</td>\n",
       "      <td>-0.00</td>\n",
       "      <td>-0.01</td>\n",
       "    </tr>\n",
       "    <tr>\n",
       "      <th>Trend_tag_count</th>\n",
       "      <td>-0.00</td>\n",
       "      <td>0.00</td>\n",
       "      <td>0.00</td>\n",
       "      <td>1.00</td>\n",
       "      <td>-0.02</td>\n",
       "      <td>-0.00</td>\n",
       "      <td>-0.01</td>\n",
       "      <td>-0.00</td>\n",
       "      <td>-0.00</td>\n",
       "      <td>-0.01</td>\n",
       "    </tr>\n",
       "    <tr>\n",
       "      <th>comment_count</th>\n",
       "      <td>0.00</td>\n",
       "      <td>0.00</td>\n",
       "      <td>0.00</td>\n",
       "      <td>-0.02</td>\n",
       "      <td>1.00</td>\n",
       "      <td>0.01</td>\n",
       "      <td>0.01</td>\n",
       "      <td>0.04</td>\n",
       "      <td>0.01</td>\n",
       "      <td>-0.01</td>\n",
       "    </tr>\n",
       "    <tr>\n",
       "      <th>likes</th>\n",
       "      <td>-0.01</td>\n",
       "      <td>0.00</td>\n",
       "      <td>-0.01</td>\n",
       "      <td>-0.00</td>\n",
       "      <td>0.01</td>\n",
       "      <td>1.00</td>\n",
       "      <td>0.34</td>\n",
       "      <td>-0.01</td>\n",
       "      <td>-0.01</td>\n",
       "      <td>-0.00</td>\n",
       "    </tr>\n",
       "    <tr>\n",
       "      <th>dislike</th>\n",
       "      <td>-0.02</td>\n",
       "      <td>0.01</td>\n",
       "      <td>-0.03</td>\n",
       "      <td>-0.01</td>\n",
       "      <td>0.01</td>\n",
       "      <td>0.34</td>\n",
       "      <td>1.00</td>\n",
       "      <td>-0.02</td>\n",
       "      <td>-0.02</td>\n",
       "      <td>0.02</td>\n",
       "    </tr>\n",
       "    <tr>\n",
       "      <th>views</th>\n",
       "      <td>0.01</td>\n",
       "      <td>-0.00</td>\n",
       "      <td>-0.00</td>\n",
       "      <td>-0.00</td>\n",
       "      <td>0.04</td>\n",
       "      <td>-0.01</td>\n",
       "      <td>-0.02</td>\n",
       "      <td>1.00</td>\n",
       "      <td>0.11</td>\n",
       "      <td>-0.09</td>\n",
       "    </tr>\n",
       "    <tr>\n",
       "      <th>Trend_start_day</th>\n",
       "      <td>-0.02</td>\n",
       "      <td>-0.00</td>\n",
       "      <td>-0.00</td>\n",
       "      <td>-0.00</td>\n",
       "      <td>0.01</td>\n",
       "      <td>-0.01</td>\n",
       "      <td>-0.02</td>\n",
       "      <td>0.11</td>\n",
       "      <td>1.00</td>\n",
       "      <td>-0.81</td>\n",
       "    </tr>\n",
       "    <tr>\n",
       "      <th>publish_year</th>\n",
       "      <td>-0.00</td>\n",
       "      <td>-0.01</td>\n",
       "      <td>-0.01</td>\n",
       "      <td>-0.01</td>\n",
       "      <td>-0.01</td>\n",
       "      <td>-0.00</td>\n",
       "      <td>0.02</td>\n",
       "      <td>-0.09</td>\n",
       "      <td>-0.81</td>\n",
       "      <td>1.00</td>\n",
       "    </tr>\n",
       "  </tbody>\n",
       "</table>\n",
       "</div>"
      ],
      "text/plain": [
       "                 subscriber  Trend_day_count  Tag_count  Trend_tag_count  \\\n",
       "subscriber             1.00            -0.00      -0.00            -0.00   \n",
       "Trend_day_count       -0.00             1.00      -0.00             0.00   \n",
       "Tag_count             -0.00            -0.00       1.00             0.00   \n",
       "Trend_tag_count       -0.00             0.00       0.00             1.00   \n",
       "comment_count          0.00             0.00       0.00            -0.02   \n",
       "likes                 -0.01             0.00      -0.01            -0.00   \n",
       "dislike               -0.02             0.01      -0.03            -0.01   \n",
       "views                  0.01            -0.00      -0.00            -0.00   \n",
       "Trend_start_day       -0.02            -0.00      -0.00            -0.00   \n",
       "publish_year          -0.00            -0.01      -0.01            -0.01   \n",
       "\n",
       "                 comment_count  likes  dislike  views  Trend_start_day  \\\n",
       "subscriber                0.00  -0.01    -0.02   0.01            -0.02   \n",
       "Trend_day_count           0.00   0.00     0.01  -0.00            -0.00   \n",
       "Tag_count                 0.00  -0.01    -0.03  -0.00            -0.00   \n",
       "Trend_tag_count          -0.02  -0.00    -0.01  -0.00            -0.00   \n",
       "comment_count             1.00   0.01     0.01   0.04             0.01   \n",
       "likes                     0.01   1.00     0.34  -0.01            -0.01   \n",
       "dislike                   0.01   0.34     1.00  -0.02            -0.02   \n",
       "views                     0.04  -0.01    -0.02   1.00             0.11   \n",
       "Trend_start_day           0.01  -0.01    -0.02   0.11             1.00   \n",
       "publish_year             -0.01  -0.00     0.02  -0.09            -0.81   \n",
       "\n",
       "                 publish_year  \n",
       "subscriber              -0.00  \n",
       "Trend_day_count         -0.01  \n",
       "Tag_count               -0.01  \n",
       "Trend_tag_count         -0.01  \n",
       "comment_count           -0.01  \n",
       "likes                   -0.00  \n",
       "dislike                  0.02  \n",
       "views                   -0.09  \n",
       "Trend_start_day         -0.81  \n",
       "publish_year             1.00  "
      ]
     },
     "execution_count": 27,
     "metadata": {},
     "output_type": "execute_result"
    }
   ],
   "source": [
    "#Finding Correlation\n",
    "correlation_matrix = youtube_df.iloc[:,0:10].corr().round(2)\n",
    "correlation_matrix"
   ]
  },
  {
   "cell_type": "code",
   "execution_count": 28,
   "metadata": {},
   "outputs": [
    {
     "data": {
      "text/plain": [
       "<matplotlib.axes._subplots.AxesSubplot at 0x215a07a4f70>"
      ]
     },
     "execution_count": 28,
     "metadata": {},
     "output_type": "execute_result"
    },
    {
     "data": {
      "image/png": "[encoded data removed]",
      "text/plain": [
       "<Figure size 432x288 with 2 Axes>"
      ]
     },
     "metadata": {
      "needs_background": "light"
     },
     "output_type": "display_data"
    }
   ],
   "source": [
    "sns.heatmap(data=correlation_matrix, annot=True)"
   ]
  },
  {
   "cell_type": "markdown",
   "metadata": {},
   "source": [
    "# Handling outliers"
   ]
  },
  {
   "cell_type": "code",
   "execution_count": 29,
   "metadata": {},
   "outputs": [
    {
     "data": {
      "text/html": [
       "<div>\n",
       "<style scoped>\n",
       "    .dataframe tbody tr th:only-of-type {\n",
       "        vertical-align: middle;\n",
       "    }\n",
       "\n",
       "    .dataframe tbody tr th {\n",
       "        vertical-align: top;\n",
       "    }\n",
       "\n",
       "    .dataframe thead th {\n",
       "        text-align: right;\n",
       "    }\n",
       "</style>\n",
       "<table border=\"1\" class=\"dataframe\">\n",
       "  <thead>\n",
       "    <tr style=\"text-align: right;\">\n",
       "      <th></th>\n",
       "      <th>subscriber</th>\n",
       "      <th>Trend_day_count</th>\n",
       "      <th>Tag_count</th>\n",
       "      <th>Trend_tag_count</th>\n",
       "      <th>comment_count</th>\n",
       "      <th>likes</th>\n",
       "      <th>dislike</th>\n",
       "      <th>views</th>\n",
       "      <th>Trend_start_day</th>\n",
       "      <th>publish_year</th>\n",
       "      <th>publish_month</th>\n",
       "      <th>publish_day</th>\n",
       "      <th>trending_year</th>\n",
       "      <th>trending_month</th>\n",
       "      <th>trending_day</th>\n",
       "      <th>cat_id_2.0</th>\n",
       "      <th>cat_id_10.0</th>\n",
       "      <th>cat_id_15.0</th>\n",
       "      <th>cat_id_17.0</th>\n",
       "      <th>cat_id_19.0</th>\n",
       "      <th>cat_id_20.0</th>\n",
       "      <th>cat_id_22.0</th>\n",
       "      <th>cat_id_23.0</th>\n",
       "      <th>cat_id_24.0</th>\n",
       "      <th>cat_id_25.0</th>\n",
       "      <th>cat_id_26.0</th>\n",
       "      <th>cat_id_27.0</th>\n",
       "      <th>cat_id_28.0</th>\n",
       "      <th>cat_id_29.0</th>\n",
       "      <th>cat_id_43.0</th>\n",
       "      <th>cat_id_117.0</th>\n",
       "      <th>cat_id_122.0</th>\n",
       "      <th>cat_id_210.0</th>\n",
       "      <th>cat_id_224.0</th>\n",
       "      <th>cat_id_226.0</th>\n",
       "      <th>cat_id_2225.0</th>\n",
       "      <th>tag_in_title_True</th>\n",
       "      <th>comment_disabled_True</th>\n",
       "      <th>Likes_disabled_True</th>\n",
       "    </tr>\n",
       "  </thead>\n",
       "  <tbody>\n",
       "    <tr>\n",
       "      <th>count</th>\n",
       "      <td>4.488000e+03</td>\n",
       "      <td>4488.00</td>\n",
       "      <td>4488.00</td>\n",
       "      <td>4488.00</td>\n",
       "      <td>4488.00</td>\n",
       "      <td>4488.00</td>\n",
       "      <td>4488.00</td>\n",
       "      <td>4.488000e+03</td>\n",
       "      <td>4488.00</td>\n",
       "      <td>4488.00</td>\n",
       "      <td>4488.00</td>\n",
       "      <td>4488.00</td>\n",
       "      <td>4488.00</td>\n",
       "      <td>4488.00</td>\n",
       "      <td>4488.00</td>\n",
       "      <td>4488.00</td>\n",
       "      <td>4488.00</td>\n",
       "      <td>4488.00</td>\n",
       "      <td>4488.00</td>\n",
       "      <td>4488.00</td>\n",
       "      <td>4488.00</td>\n",
       "      <td>4488.00</td>\n",
       "      <td>4488.00</td>\n",
       "      <td>4488.00</td>\n",
       "      <td>4488.00</td>\n",
       "      <td>4488.00</td>\n",
       "      <td>4488.00</td>\n",
       "      <td>4488.00</td>\n",
       "      <td>4488.00</td>\n",
       "      <td>4488.00</td>\n",
       "      <td>4488.00</td>\n",
       "      <td>4488.00</td>\n",
       "      <td>4488.00</td>\n",
       "      <td>4488.00</td>\n",
       "      <td>4488.00</td>\n",
       "      <td>4488.00</td>\n",
       "      <td>4488.00</td>\n",
       "      <td>4488.00</td>\n",
       "      <td>4488.00</td>\n",
       "    </tr>\n",
       "    <tr>\n",
       "      <th>mean</th>\n",
       "      <td>3.569397e+06</td>\n",
       "      <td>7.55</td>\n",
       "      <td>17.97</td>\n",
       "      <td>6.22</td>\n",
       "      <td>111501.84</td>\n",
       "      <td>9799.25</td>\n",
       "      <td>5872.52</td>\n",
       "      <td>1.399831e+06</td>\n",
       "      <td>34.82</td>\n",
       "      <td>2017.44</td>\n",
       "      <td>6.30</td>\n",
       "      <td>15.61</td>\n",
       "      <td>2017.58</td>\n",
       "      <td>5.84</td>\n",
       "      <td>14.97</td>\n",
       "      <td>0.01</td>\n",
       "      <td>0.13</td>\n",
       "      <td>0.03</td>\n",
       "      <td>0.07</td>\n",
       "      <td>0.01</td>\n",
       "      <td>0.01</td>\n",
       "      <td>0.08</td>\n",
       "      <td>0.08</td>\n",
       "      <td>0.24</td>\n",
       "      <td>0.10</td>\n",
       "      <td>0.09</td>\n",
       "      <td>0.04</td>\n",
       "      <td>0.06</td>\n",
       "      <td>0.00</td>\n",
       "      <td>0.00</td>\n",
       "      <td>0.00</td>\n",
       "      <td>0.00</td>\n",
       "      <td>0.00</td>\n",
       "      <td>0.00</td>\n",
       "      <td>0.00</td>\n",
       "      <td>0.00</td>\n",
       "      <td>0.67</td>\n",
       "      <td>0.68</td>\n",
       "      <td>0.25</td>\n",
       "    </tr>\n",
       "    <tr>\n",
       "      <th>std</th>\n",
       "      <td>2.423717e+07</td>\n",
       "      <td>66.33</td>\n",
       "      <td>67.89</td>\n",
       "      <td>147.78</td>\n",
       "      <td>101347.39</td>\n",
       "      <td>19253.58</td>\n",
       "      <td>4829.13</td>\n",
       "      <td>1.734319e+07</td>\n",
       "      <td>249.11</td>\n",
       "      <td>0.84</td>\n",
       "      <td>5.03</td>\n",
       "      <td>8.38</td>\n",
       "      <td>0.49</td>\n",
       "      <td>4.97</td>\n",
       "      <td>8.70</td>\n",
       "      <td>0.12</td>\n",
       "      <td>0.33</td>\n",
       "      <td>0.16</td>\n",
       "      <td>0.25</td>\n",
       "      <td>0.10</td>\n",
       "      <td>0.11</td>\n",
       "      <td>0.26</td>\n",
       "      <td>0.28</td>\n",
       "      <td>0.43</td>\n",
       "      <td>0.29</td>\n",
       "      <td>0.29</td>\n",
       "      <td>0.19</td>\n",
       "      <td>0.24</td>\n",
       "      <td>0.05</td>\n",
       "      <td>0.02</td>\n",
       "      <td>0.02</td>\n",
       "      <td>0.01</td>\n",
       "      <td>0.01</td>\n",
       "      <td>0.01</td>\n",
       "      <td>0.01</td>\n",
       "      <td>0.01</td>\n",
       "      <td>0.47</td>\n",
       "      <td>0.47</td>\n",
       "      <td>0.44</td>\n",
       "    </tr>\n",
       "    <tr>\n",
       "      <th>min</th>\n",
       "      <td>0.000000e+00</td>\n",
       "      <td>0.00</td>\n",
       "      <td>0.00</td>\n",
       "      <td>1.00</td>\n",
       "      <td>0.00</td>\n",
       "      <td>0.00</td>\n",
       "      <td>0.00</td>\n",
       "      <td>1.000000e+00</td>\n",
       "      <td>0.00</td>\n",
       "      <td>2006.00</td>\n",
       "      <td>1.00</td>\n",
       "      <td>1.00</td>\n",
       "      <td>2017.00</td>\n",
       "      <td>1.00</td>\n",
       "      <td>1.00</td>\n",
       "      <td>0.00</td>\n",
       "      <td>0.00</td>\n",
       "      <td>0.00</td>\n",
       "      <td>0.00</td>\n",
       "      <td>0.00</td>\n",
       "      <td>0.00</td>\n",
       "      <td>0.00</td>\n",
       "      <td>0.00</td>\n",
       "      <td>0.00</td>\n",
       "      <td>0.00</td>\n",
       "      <td>0.00</td>\n",
       "      <td>0.00</td>\n",
       "      <td>0.00</td>\n",
       "      <td>0.00</td>\n",
       "      <td>0.00</td>\n",
       "      <td>0.00</td>\n",
       "      <td>0.00</td>\n",
       "      <td>0.00</td>\n",
       "      <td>0.00</td>\n",
       "      <td>0.00</td>\n",
       "      <td>0.00</td>\n",
       "      <td>0.00</td>\n",
       "      <td>0.00</td>\n",
       "      <td>0.00</td>\n",
       "    </tr>\n",
       "    <tr>\n",
       "      <th>25%</th>\n",
       "      <td>2.428800e+05</td>\n",
       "      <td>4.00</td>\n",
       "      <td>12.00</td>\n",
       "      <td>2.00</td>\n",
       "      <td>0.00</td>\n",
       "      <td>0.00</td>\n",
       "      <td>0.00</td>\n",
       "      <td>4.274932e+05</td>\n",
       "      <td>5.00</td>\n",
       "      <td>2017.00</td>\n",
       "      <td>1.00</td>\n",
       "      <td>9.00</td>\n",
       "      <td>2017.00</td>\n",
       "      <td>1.00</td>\n",
       "      <td>7.00</td>\n",
       "      <td>0.00</td>\n",
       "      <td>0.00</td>\n",
       "      <td>0.00</td>\n",
       "      <td>0.00</td>\n",
       "      <td>0.00</td>\n",
       "      <td>0.00</td>\n",
       "      <td>0.00</td>\n",
       "      <td>0.00</td>\n",
       "      <td>0.00</td>\n",
       "      <td>0.00</td>\n",
       "      <td>0.00</td>\n",
       "      <td>0.00</td>\n",
       "      <td>0.00</td>\n",
       "      <td>0.00</td>\n",
       "      <td>0.00</td>\n",
       "      <td>0.00</td>\n",
       "      <td>0.00</td>\n",
       "      <td>0.00</td>\n",
       "      <td>0.00</td>\n",
       "      <td>0.00</td>\n",
       "      <td>0.00</td>\n",
       "      <td>0.00</td>\n",
       "      <td>0.00</td>\n",
       "      <td>0.00</td>\n",
       "    </tr>\n",
       "    <tr>\n",
       "      <th>50%</th>\n",
       "      <td>1.186609e+06</td>\n",
       "      <td>7.00</td>\n",
       "      <td>17.00</td>\n",
       "      <td>4.00</td>\n",
       "      <td>98185.00</td>\n",
       "      <td>10420.50</td>\n",
       "      <td>5456.50</td>\n",
       "      <td>7.076345e+05</td>\n",
       "      <td>6.00</td>\n",
       "      <td>2018.00</td>\n",
       "      <td>3.00</td>\n",
       "      <td>15.00</td>\n",
       "      <td>2018.00</td>\n",
       "      <td>2.00</td>\n",
       "      <td>15.00</td>\n",
       "      <td>0.00</td>\n",
       "      <td>0.00</td>\n",
       "      <td>0.00</td>\n",
       "      <td>0.00</td>\n",
       "      <td>0.00</td>\n",
       "      <td>0.00</td>\n",
       "      <td>0.00</td>\n",
       "      <td>0.00</td>\n",
       "      <td>0.00</td>\n",
       "      <td>0.00</td>\n",
       "      <td>0.00</td>\n",
       "      <td>0.00</td>\n",
       "      <td>0.00</td>\n",
       "      <td>0.00</td>\n",
       "      <td>0.00</td>\n",
       "      <td>0.00</td>\n",
       "      <td>0.00</td>\n",
       "      <td>0.00</td>\n",
       "      <td>0.00</td>\n",
       "      <td>0.00</td>\n",
       "      <td>0.00</td>\n",
       "      <td>1.00</td>\n",
       "      <td>1.00</td>\n",
       "      <td>0.00</td>\n",
       "    </tr>\n",
       "    <tr>\n",
       "      <th>75%</th>\n",
       "      <td>3.766915e+06</td>\n",
       "      <td>10.00</td>\n",
       "      <td>21.00</td>\n",
       "      <td>6.00</td>\n",
       "      <td>201786.25</td>\n",
       "      <td>15020.50</td>\n",
       "      <td>10155.75</td>\n",
       "      <td>1.175462e+06</td>\n",
       "      <td>7.00</td>\n",
       "      <td>2018.00</td>\n",
       "      <td>12.00</td>\n",
       "      <td>22.00</td>\n",
       "      <td>2018.00</td>\n",
       "      <td>12.00</td>\n",
       "      <td>22.00</td>\n",
       "      <td>0.00</td>\n",
       "      <td>0.00</td>\n",
       "      <td>0.00</td>\n",
       "      <td>0.00</td>\n",
       "      <td>0.00</td>\n",
       "      <td>0.00</td>\n",
       "      <td>0.00</td>\n",
       "      <td>0.00</td>\n",
       "      <td>0.00</td>\n",
       "      <td>0.00</td>\n",
       "      <td>0.00</td>\n",
       "      <td>0.00</td>\n",
       "      <td>0.00</td>\n",
       "      <td>0.00</td>\n",
       "      <td>0.00</td>\n",
       "      <td>0.00</td>\n",
       "      <td>0.00</td>\n",
       "      <td>0.00</td>\n",
       "      <td>0.00</td>\n",
       "      <td>0.00</td>\n",
       "      <td>0.00</td>\n",
       "      <td>1.00</td>\n",
       "      <td>1.00</td>\n",
       "      <td>1.00</td>\n",
       "    </tr>\n",
       "    <tr>\n",
       "      <th>max</th>\n",
       "      <td>1.576229e+09</td>\n",
       "      <td>4444.00</td>\n",
       "      <td>3225.00</td>\n",
       "      <td>9903.00</td>\n",
       "      <td>299877.00</td>\n",
       "      <td>1213628.00</td>\n",
       "      <td>14916.00</td>\n",
       "      <td>9.898735e+08</td>\n",
       "      <td>4215.00</td>\n",
       "      <td>2018.00</td>\n",
       "      <td>12.00</td>\n",
       "      <td>31.00</td>\n",
       "      <td>2018.00</td>\n",
       "      <td>12.00</td>\n",
       "      <td>31.00</td>\n",
       "      <td>1.00</td>\n",
       "      <td>1.00</td>\n",
       "      <td>1.00</td>\n",
       "      <td>1.00</td>\n",
       "      <td>1.00</td>\n",
       "      <td>1.00</td>\n",
       "      <td>1.00</td>\n",
       "      <td>1.00</td>\n",
       "      <td>1.00</td>\n",
       "      <td>1.00</td>\n",
       "      <td>1.00</td>\n",
       "      <td>1.00</td>\n",
       "      <td>1.00</td>\n",
       "      <td>1.00</td>\n",
       "      <td>1.00</td>\n",
       "      <td>1.00</td>\n",
       "      <td>1.00</td>\n",
       "      <td>1.00</td>\n",
       "      <td>1.00</td>\n",
       "      <td>1.00</td>\n",
       "      <td>1.00</td>\n",
       "      <td>1.00</td>\n",
       "      <td>1.00</td>\n",
       "      <td>1.00</td>\n",
       "    </tr>\n",
       "  </tbody>\n",
       "</table>\n",
       "</div>"
      ],
      "text/plain": [
       "         subscriber  Trend_day_count  Tag_count  Trend_tag_count  \\\n",
       "count  4.488000e+03          4488.00    4488.00          4488.00   \n",
       "mean   3.569397e+06             7.55      17.97             6.22   \n",
       "std    2.423717e+07            66.33      67.89           147.78   \n",
       "min    0.000000e+00             0.00       0.00             1.00   \n",
       "25%    2.428800e+05             4.00      12.00             2.00   \n",
       "50%    1.186609e+06             7.00      17.00             4.00   \n",
       "75%    3.766915e+06            10.00      21.00             6.00   \n",
       "max    1.576229e+09          4444.00    3225.00          9903.00   \n",
       "\n",
       "       comment_count       likes   dislike         views  Trend_start_day  \\\n",
       "count        4488.00     4488.00   4488.00  4.488000e+03          4488.00   \n",
       "mean       111501.84     9799.25   5872.52  1.399831e+06            34.82   \n",
       "std        101347.39    19253.58   4829.13  1.734319e+07           249.11   \n",
       "min             0.00        0.00      0.00  1.000000e+00             0.00   \n",
       "25%             0.00        0.00      0.00  4.274932e+05             5.00   \n",
       "50%         98185.00    10420.50   5456.50  7.076345e+05             6.00   \n",
       "75%        201786.25    15020.50  10155.75  1.175462e+06             7.00   \n",
       "max        299877.00  1213628.00  14916.00  9.898735e+08          4215.00   \n",
       "\n",
       "       publish_year  publish_month  publish_day  trending_year  \\\n",
       "count       4488.00        4488.00      4488.00        4488.00   \n",
       "mean        2017.44           6.30        15.61        2017.58   \n",
       "std            0.84           5.03         8.38           0.49   \n",
       "min         2006.00           1.00         1.00        2017.00   \n",
       "25%         2017.00           1.00         9.00        2017.00   \n",
       "50%         2018.00           3.00        15.00        2018.00   \n",
       "75%         2018.00          12.00        22.00        2018.00   \n",
       "max         2018.00          12.00        31.00        2018.00   \n",
       "\n",
       "       trending_month  trending_day  cat_id_2.0  cat_id_10.0  cat_id_15.0  \\\n",
       "count         4488.00       4488.00     4488.00      4488.00      4488.00   \n",
       "mean             5.84         14.97        0.01         0.13         0.03   \n",
       "std              4.97          8.70        0.12         0.33         0.16   \n",
       "min              1.00          1.00        0.00         0.00         0.00   \n",
       "25%              1.00          7.00        0.00         0.00         0.00   \n",
       "50%              2.00         15.00        0.00         0.00         0.00   \n",
       "75%             12.00         22.00        0.00         0.00         0.00   \n",
       "max             12.00         31.00        1.00         1.00         1.00   \n",
       "\n",
       "       cat_id_17.0  cat_id_19.0  cat_id_20.0  cat_id_22.0  cat_id_23.0  \\\n",
       "count      4488.00      4488.00      4488.00      4488.00      4488.00   \n",
       "mean          0.07         0.01         0.01         0.08         0.08   \n",
       "std           0.25         0.10         0.11         0.26         0.28   \n",
       "min           0.00         0.00         0.00         0.00         0.00   \n",
       "25%           0.00         0.00         0.00         0.00         0.00   \n",
       "50%           0.00         0.00         0.00         0.00         0.00   \n",
       "75%           0.00         0.00         0.00         0.00         0.00   \n",
       "max           1.00         1.00         1.00         1.00         1.00   \n",
       "\n",
       "       cat_id_24.0  cat_id_25.0  cat_id_26.0  cat_id_27.0  cat_id_28.0  \\\n",
       "count      4488.00      4488.00      4488.00      4488.00      4488.00   \n",
       "mean          0.24         0.10         0.09         0.04         0.06   \n",
       "std           0.43         0.29         0.29         0.19         0.24   \n",
       "min           0.00         0.00         0.00         0.00         0.00   \n",
       "25%           0.00         0.00         0.00         0.00         0.00   \n",
       "50%           0.00         0.00         0.00         0.00         0.00   \n",
       "75%           0.00         0.00         0.00         0.00         0.00   \n",
       "max           1.00         1.00         1.00         1.00         1.00   \n",
       "\n",
       "       cat_id_29.0  cat_id_43.0  cat_id_117.0  cat_id_122.0  cat_id_210.0  \\\n",
       "count      4488.00      4488.00       4488.00       4488.00       4488.00   \n",
       "mean          0.00         0.00          0.00          0.00          0.00   \n",
       "std           0.05         0.02          0.02          0.01          0.01   \n",
       "min           0.00         0.00          0.00          0.00          0.00   \n",
       "25%           0.00         0.00          0.00          0.00          0.00   \n",
       "50%           0.00         0.00          0.00          0.00          0.00   \n",
       "75%           0.00         0.00          0.00          0.00          0.00   \n",
       "max           1.00         1.00          1.00          1.00          1.00   \n",
       "\n",
       "       cat_id_224.0  cat_id_226.0  cat_id_2225.0  tag_in_title_True  \\\n",
       "count       4488.00       4488.00        4488.00            4488.00   \n",
       "mean           0.00          0.00           0.00               0.67   \n",
       "std            0.01          0.01           0.01               0.47   \n",
       "min            0.00          0.00           0.00               0.00   \n",
       "25%            0.00          0.00           0.00               0.00   \n",
       "50%            0.00          0.00           0.00               1.00   \n",
       "75%            0.00          0.00           0.00               1.00   \n",
       "max            1.00          1.00           1.00               1.00   \n",
       "\n",
       "       comment_disabled_True  Likes_disabled_True  \n",
       "count                4488.00              4488.00  \n",
       "mean                    0.68                 0.25  \n",
       "std                     0.47                 0.44  \n",
       "min                     0.00                 0.00  \n",
       "25%                     0.00                 0.00  \n",
       "50%                     1.00                 0.00  \n",
       "75%                     1.00                 1.00  \n",
       "max                     1.00                 1.00  "
      ]
     },
     "execution_count": 29,
     "metadata": {},
     "output_type": "execute_result"
    }
   ],
   "source": [
    "youtube_df.describe().round(2)"
   ]
  },
  {
   "cell_type": "code",
   "execution_count": 30,
   "metadata": {},
   "outputs": [
    {
     "data": {
      "image/png": "[encoded data removed]",
      "text/plain": [
       "<Figure size 432x288 with 1 Axes>"
      ]
     },
     "metadata": {
      "needs_background": "light"
     },
     "output_type": "display_data"
    }
   ],
   "source": [
    "# Visualizing outliers\n",
    "plt.boxplot(youtube_df[\"Trend_day_count\"])\n",
    "plt.show()"
   ]
  },
  {
   "cell_type": "code",
   "execution_count": 31,
   "metadata": {},
   "outputs": [
    {
     "data": {
      "image/png": "[encoded data removed]",
      "text/plain": [
       "<Figure size 432x288 with 1 Axes>"
      ]
     },
     "metadata": {
      "needs_background": "light"
     },
     "output_type": "display_data"
    }
   ],
   "source": [
    "plt.boxplot(youtube_df[\"Tag_count\"])\n",
    "plt.show()"
   ]
  },
  {
   "cell_type": "code",
   "execution_count": 32,
   "metadata": {},
   "outputs": [
    {
     "data": {
      "image/png": "[encoded data removed]",
      "text/plain": [
       "<Figure size 432x288 with 1 Axes>"
      ]
     },
     "metadata": {
      "needs_background": "light"
     },
     "output_type": "display_data"
    }
   ],
   "source": [
    "plt.boxplot(youtube_df[\"Trend_tag_count\"])\n",
    "plt.show()"
   ]
  },
  {
   "cell_type": "code",
   "execution_count": 33,
   "metadata": {},
   "outputs": [
    {
     "data": {
      "image/png": "[encoded data removed]",
      "text/plain": [
       "<Figure size 432x288 with 1 Axes>"
      ]
     },
     "metadata": {
      "needs_background": "light"
     },
     "output_type": "display_data"
    }
   ],
   "source": [
    "plt.boxplot(youtube_df[\"likes\"])\n",
    "plt.show()"
   ]
  },
  {
   "cell_type": "code",
   "execution_count": 34,
   "metadata": {},
   "outputs": [
    {
     "data": {
      "text/html": [
       "<div>\n",
       "<style scoped>\n",
       "    .dataframe tbody tr th:only-of-type {\n",
       "        vertical-align: middle;\n",
       "    }\n",
       "\n",
       "    .dataframe tbody tr th {\n",
       "        vertical-align: top;\n",
       "    }\n",
       "\n",
       "    .dataframe thead th {\n",
       "        text-align: right;\n",
       "    }\n",
       "</style>\n",
       "<table border=\"1\" class=\"dataframe\">\n",
       "  <thead>\n",
       "    <tr style=\"text-align: right;\">\n",
       "      <th></th>\n",
       "      <th>subscriber</th>\n",
       "      <th>Trend_day_count</th>\n",
       "      <th>Tag_count</th>\n",
       "      <th>Trend_tag_count</th>\n",
       "      <th>comment_count</th>\n",
       "      <th>likes</th>\n",
       "      <th>dislike</th>\n",
       "      <th>views</th>\n",
       "      <th>Trend_start_day</th>\n",
       "      <th>publish_year</th>\n",
       "      <th>publish_month</th>\n",
       "      <th>publish_day</th>\n",
       "      <th>trending_year</th>\n",
       "      <th>trending_month</th>\n",
       "      <th>trending_day</th>\n",
       "      <th>cat_id_2.0</th>\n",
       "      <th>cat_id_10.0</th>\n",
       "      <th>cat_id_15.0</th>\n",
       "      <th>cat_id_17.0</th>\n",
       "      <th>cat_id_19.0</th>\n",
       "      <th>cat_id_20.0</th>\n",
       "      <th>cat_id_22.0</th>\n",
       "      <th>cat_id_23.0</th>\n",
       "      <th>cat_id_24.0</th>\n",
       "      <th>cat_id_25.0</th>\n",
       "      <th>cat_id_26.0</th>\n",
       "      <th>cat_id_27.0</th>\n",
       "      <th>cat_id_28.0</th>\n",
       "      <th>cat_id_29.0</th>\n",
       "      <th>cat_id_43.0</th>\n",
       "      <th>cat_id_117.0</th>\n",
       "      <th>cat_id_122.0</th>\n",
       "      <th>cat_id_210.0</th>\n",
       "      <th>cat_id_224.0</th>\n",
       "      <th>cat_id_226.0</th>\n",
       "      <th>cat_id_2225.0</th>\n",
       "      <th>tag_in_title_True</th>\n",
       "      <th>comment_disabled_True</th>\n",
       "      <th>Likes_disabled_True</th>\n",
       "    </tr>\n",
       "  </thead>\n",
       "  <tbody>\n",
       "    <tr>\n",
       "      <th>0.25</th>\n",
       "      <td>242880.0</td>\n",
       "      <td>4.0</td>\n",
       "      <td>12.0</td>\n",
       "      <td>2.0</td>\n",
       "      <td>0.0</td>\n",
       "      <td>0.0</td>\n",
       "      <td>0.0</td>\n",
       "      <td>427429.5</td>\n",
       "      <td>5.0</td>\n",
       "      <td>2017.0</td>\n",
       "      <td>1.0</td>\n",
       "      <td>9.0</td>\n",
       "      <td>2017.0</td>\n",
       "      <td>1.0</td>\n",
       "      <td>7.0</td>\n",
       "      <td>0.0</td>\n",
       "      <td>0.0</td>\n",
       "      <td>0.0</td>\n",
       "      <td>0.0</td>\n",
       "      <td>0.0</td>\n",
       "      <td>0.0</td>\n",
       "      <td>0.0</td>\n",
       "      <td>0.0</td>\n",
       "      <td>0.0</td>\n",
       "      <td>0.0</td>\n",
       "      <td>0.0</td>\n",
       "      <td>0.0</td>\n",
       "      <td>0.0</td>\n",
       "      <td>0.0</td>\n",
       "      <td>0.0</td>\n",
       "      <td>0.0</td>\n",
       "      <td>0.0</td>\n",
       "      <td>0.0</td>\n",
       "      <td>0.0</td>\n",
       "      <td>0.0</td>\n",
       "      <td>0.0</td>\n",
       "      <td>0.0</td>\n",
       "      <td>0.0</td>\n",
       "      <td>0.0</td>\n",
       "    </tr>\n",
       "    <tr>\n",
       "      <th>0.75</th>\n",
       "      <td>3766915.0</td>\n",
       "      <td>10.0</td>\n",
       "      <td>21.0</td>\n",
       "      <td>6.0</td>\n",
       "      <td>201818.5</td>\n",
       "      <td>15027.0</td>\n",
       "      <td>10156.5</td>\n",
       "      <td>1176092.0</td>\n",
       "      <td>7.0</td>\n",
       "      <td>2018.0</td>\n",
       "      <td>12.0</td>\n",
       "      <td>22.0</td>\n",
       "      <td>2018.0</td>\n",
       "      <td>12.0</td>\n",
       "      <td>22.0</td>\n",
       "      <td>0.0</td>\n",
       "      <td>0.0</td>\n",
       "      <td>0.0</td>\n",
       "      <td>0.0</td>\n",
       "      <td>0.0</td>\n",
       "      <td>0.0</td>\n",
       "      <td>0.0</td>\n",
       "      <td>0.0</td>\n",
       "      <td>0.0</td>\n",
       "      <td>0.0</td>\n",
       "      <td>0.0</td>\n",
       "      <td>0.0</td>\n",
       "      <td>0.0</td>\n",
       "      <td>0.0</td>\n",
       "      <td>0.0</td>\n",
       "      <td>0.0</td>\n",
       "      <td>0.0</td>\n",
       "      <td>0.0</td>\n",
       "      <td>0.0</td>\n",
       "      <td>0.0</td>\n",
       "      <td>0.0</td>\n",
       "      <td>1.0</td>\n",
       "      <td>1.0</td>\n",
       "      <td>1.0</td>\n",
       "    </tr>\n",
       "  </tbody>\n",
       "</table>\n",
       "</div>"
      ],
      "text/plain": [
       "      subscriber  Trend_day_count  Tag_count  Trend_tag_count  comment_count  \\\n",
       "0.25    242880.0              4.0       12.0              2.0            0.0   \n",
       "0.75   3766915.0             10.0       21.0              6.0       201818.5   \n",
       "\n",
       "        likes  dislike      views  Trend_start_day  publish_year  \\\n",
       "0.25      0.0      0.0   427429.5              5.0        2017.0   \n",
       "0.75  15027.0  10156.5  1176092.0              7.0        2018.0   \n",
       "\n",
       "      publish_month  publish_day  trending_year  trending_month  trending_day  \\\n",
       "0.25            1.0          9.0         2017.0             1.0           7.0   \n",
       "0.75           12.0         22.0         2018.0            12.0          22.0   \n",
       "\n",
       "      cat_id_2.0  cat_id_10.0  cat_id_15.0  cat_id_17.0  cat_id_19.0  \\\n",
       "0.25         0.0          0.0          0.0          0.0          0.0   \n",
       "0.75         0.0          0.0          0.0          0.0          0.0   \n",
       "\n",
       "      cat_id_20.0  cat_id_22.0  cat_id_23.0  cat_id_24.0  cat_id_25.0  \\\n",
       "0.25          0.0          0.0          0.0          0.0          0.0   \n",
       "0.75          0.0          0.0          0.0          0.0          0.0   \n",
       "\n",
       "      cat_id_26.0  cat_id_27.0  cat_id_28.0  cat_id_29.0  cat_id_43.0  \\\n",
       "0.25          0.0          0.0          0.0          0.0          0.0   \n",
       "0.75          0.0          0.0          0.0          0.0          0.0   \n",
       "\n",
       "      cat_id_117.0  cat_id_122.0  cat_id_210.0  cat_id_224.0  cat_id_226.0  \\\n",
       "0.25           0.0           0.0           0.0           0.0           0.0   \n",
       "0.75           0.0           0.0           0.0           0.0           0.0   \n",
       "\n",
       "      cat_id_2225.0  tag_in_title_True  comment_disabled_True  \\\n",
       "0.25            0.0                0.0                    0.0   \n",
       "0.75            0.0                1.0                    1.0   \n",
       "\n",
       "      Likes_disabled_True  \n",
       "0.25                  0.0  \n",
       "0.75                  1.0  "
      ]
     },
     "execution_count": 34,
     "metadata": {},
     "output_type": "execute_result"
    }
   ],
   "source": [
    "youtube_df.quantile([0.25, 0.75], interpolation='midpoint')"
   ]
  },
  {
   "cell_type": "code",
   "execution_count": 35,
   "metadata": {},
   "outputs": [],
   "source": [
    "#Creating lowerbound and upperboud values as threshold for removing outliers.\n",
    "#We will be dropping all the values that fall out of this threshold.\n",
    "def outlier_treatment(datacolumn):\n",
    "    sorted(datacolumn)\n",
    "    Q1,Q3 = np.percentile(datacolumn,[25,75])\n",
    "    IQR = Q3 - Q1\n",
    "    low_range = Q1 - (1.5 * IQR)\n",
    "    up_range = Q3 +(1.5 * IQR)\n",
    "    return low_range,up_range"
   ]
  },
  {
   "cell_type": "code",
   "execution_count": 36,
   "metadata": {},
   "outputs": [],
   "source": [
    "lowbd,upbd =outlier_treatment(youtube_df.subscriber)\n",
    "youtube_df.drop(youtube_df[(youtube_df.subscriber > upbd)|(youtube_df.subscriber < lowbd)].index,inplace=True)"
   ]
  },
  {
   "cell_type": "code",
   "execution_count": 37,
   "metadata": {},
   "outputs": [],
   "source": [
    "lowbd,upbd =outlier_treatment(youtube_df.Trend_day_count)\n",
    "youtube_df.drop(youtube_df[(youtube_df.Trend_day_count > upbd)|(youtube_df.Trend_day_count < lowbd)].index,inplace=True)"
   ]
  },
  {
   "cell_type": "code",
   "execution_count": 38,
   "metadata": {},
   "outputs": [],
   "source": [
    "lowbd,upbd =outlier_treatment(youtube_df.Tag_count)\n",
    "youtube_df.drop(youtube_df[(youtube_df.Tag_count > upbd)|(youtube_df.Tag_count < lowbd)].index,inplace=True)"
   ]
  },
  {
   "cell_type": "code",
   "execution_count": 39,
   "metadata": {},
   "outputs": [],
   "source": [
    "lowbd,upbd =outlier_treatment(youtube_df.Trend_tag_count)\n",
    "youtube_df.drop(youtube_df[(youtube_df.Trend_tag_count > upbd)|(youtube_df.Trend_tag_count < lowbd)].index,inplace=True)"
   ]
  },
  {
   "cell_type": "code",
   "execution_count": 40,
   "metadata": {},
   "outputs": [],
   "source": [
    "lowbd,upbd =outlier_treatment(youtube_df.likes)\n",
    "youtube_df.drop(youtube_df[(youtube_df.likes > upbd)|(youtube_df.likes < lowbd)].index,inplace=True)"
   ]
  },
  {
   "cell_type": "code",
   "execution_count": 41,
   "metadata": {},
   "outputs": [],
   "source": [
    "lowbd,upbd =outlier_treatment(youtube_df.views)\n",
    "youtube_df.drop(youtube_df[(youtube_df.views > upbd)|(youtube_df.views < lowbd)].index,inplace=True)"
   ]
  },
  {
   "cell_type": "code",
   "execution_count": 42,
   "metadata": {},
   "outputs": [
    {
     "name": "stdout",
     "output_type": "stream",
     "text": [
      "<class 'pandas.core.frame.DataFrame'>\n",
      "Int64Index: 3850 entries, 1 to 4532\n",
      "Data columns (total 39 columns):\n",
      " #   Column                 Non-Null Count  Dtype  \n",
      "---  ------                 --------------  -----  \n",
      " 0   subscriber             3850 non-null   float64\n",
      " 1   Trend_day_count        3850 non-null   int64  \n",
      " 2   Tag_count              3850 non-null   float64\n",
      " 3   Trend_tag_count        3850 non-null   float64\n",
      " 4   comment_count          3850 non-null   float64\n",
      " 5   likes                  3850 non-null   int64  \n",
      " 6   dislike                3850 non-null   int64  \n",
      " 7   views                  3850 non-null   float64\n",
      " 8   Trend_start_day        3850 non-null   float64\n",
      " 9   publish_year           3850 non-null   float64\n",
      " 10  publish_month          3850 non-null   float64\n",
      " 11  publish_day            3850 non-null   float64\n",
      " 12  trending_year          3850 non-null   float64\n",
      " 13  trending_month         3850 non-null   float64\n",
      " 14  trending_day           3850 non-null   float64\n",
      " 15  cat_id_2.0             3850 non-null   uint8  \n",
      " 16  cat_id_10.0            3850 non-null   uint8  \n",
      " 17  cat_id_15.0            3850 non-null   uint8  \n",
      " 18  cat_id_17.0            3850 non-null   uint8  \n",
      " 19  cat_id_19.0            3850 non-null   uint8  \n",
      " 20  cat_id_20.0            3850 non-null   uint8  \n",
      " 21  cat_id_22.0            3850 non-null   uint8  \n",
      " 22  cat_id_23.0            3850 non-null   uint8  \n",
      " 23  cat_id_24.0            3850 non-null   uint8  \n",
      " 24  cat_id_25.0            3850 non-null   uint8  \n",
      " 25  cat_id_26.0            3850 non-null   uint8  \n",
      " 26  cat_id_27.0            3850 non-null   uint8  \n",
      " 27  cat_id_28.0            3850 non-null   uint8  \n",
      " 28  cat_id_29.0            3850 non-null   uint8  \n",
      " 29  cat_id_43.0            3850 non-null   uint8  \n",
      " 30  cat_id_117.0           3850 non-null   uint8  \n",
      " 31  cat_id_122.0           3850 non-null   uint8  \n",
      " 32  cat_id_210.0           3850 non-null   uint8  \n",
      " 33  cat_id_224.0           3850 non-null   uint8  \n",
      " 34  cat_id_226.0           3850 non-null   uint8  \n",
      " 35  cat_id_2225.0          3850 non-null   uint8  \n",
      " 36  tag_in_title_True      3850 non-null   uint8  \n",
      " 37  comment_disabled_True  3850 non-null   uint8  \n",
      " 38  Likes_disabled_True    3850 non-null   uint8  \n",
      "dtypes: float64(12), int64(3), uint8(24)\n",
      "memory usage: 571.5 KB\n"
     ]
    }
   ],
   "source": [
    "youtube_df.info()"
   ]
  },
  {
   "cell_type": "code",
   "execution_count": 43,
   "metadata": {},
   "outputs": [],
   "source": [
    "#splitting data into X and Y\n",
    "x=youtube_df.drop(['views'],axis=1)\n",
    "y=youtube_df['views']"
   ]
  },
  {
   "cell_type": "code",
   "execution_count": 44,
   "metadata": {},
   "outputs": [
    {
     "name": "stdout",
     "output_type": "stream",
     "text": [
      "(3850, 38)\n",
      "(3850,)\n"
     ]
    }
   ],
   "source": [
    "print(x.shape)\n",
    "print(y.shape)"
   ]
  },
  {
   "cell_type": "code",
   "execution_count": 45,
   "metadata": {},
   "outputs": [
    {
     "name": "stdout",
     "output_type": "stream",
     "text": [
      "(2887, 38)\n",
      "(963, 38)\n",
      "(2887,)\n",
      "(963,)\n"
     ]
    }
   ],
   "source": [
    "#Train test split for cross validation\n",
    "from sklearn.model_selection import train_test_split\n",
    "X_train, X_test, Y_train, Y_test = train_test_split(x,y,test_size=0.25,random_state=0)\n",
    "print(X_train.shape)\n",
    "print(X_test.shape)\n",
    "print(Y_train.shape)\n",
    "print(Y_test.shape)"
   ]
  },
  {
   "cell_type": "markdown",
   "metadata": {},
   "source": [
    "# Decision tree"
   ]
  },
  {
   "cell_type": "code",
   "execution_count": 46,
   "metadata": {},
   "outputs": [
    {
     "data": {
      "text/plain": [
       "DecisionTreeRegressor(random_state=10)"
      ]
     },
     "execution_count": 46,
     "metadata": {},
     "output_type": "execute_result"
    }
   ],
   "source": [
    "# import the regressor \n",
    "from sklearn.tree import DecisionTreeRegressor\n",
    "\n",
    "# create a regressor object \n",
    "regressor = DecisionTreeRegressor(criterion='mse', random_state = 10)  \n",
    "\n",
    "# fit the regressor with X and Y data \n",
    "regressor.fit(X_train, Y_train)"
   ]
  },
  {
   "cell_type": "code",
   "execution_count": 47,
   "metadata": {},
   "outputs": [],
   "source": [
    "Y_predict=regressor.predict(X_test)"
   ]
  },
  {
   "cell_type": "code",
   "execution_count": 48,
   "metadata": {},
   "outputs": [
    {
     "name": "stdout",
     "output_type": "stream",
     "text": [
      "Root Mean Squared Error: 119132.41183618562\n",
      "R sqaure 0.9107662930349365\n"
     ]
    }
   ],
   "source": [
    "from sklearn import metrics\n",
    "\n",
    "print('Root Mean Squared Error:', np.sqrt(metrics.mean_squared_error(Y_test, Y_predict)))\n",
    "print('R sqaure',metrics.r2_score(Y_test,Y_predict))"
   ]
  },
  {
   "cell_type": "markdown",
   "metadata": {},
   "source": [
    "# Random Forest"
   ]
  },
  {
   "cell_type": "code",
   "execution_count": 49,
   "metadata": {},
   "outputs": [
    {
     "data": {
      "text/plain": [
       "RandomForestRegressor(n_estimators=25, random_state=10)"
      ]
     },
     "execution_count": 49,
     "metadata": {},
     "output_type": "execute_result"
    }
   ],
   "source": [
    "# import the regressor \n",
    "from sklearn.ensemble import RandomForestRegressor\n",
    "\n",
    "# create a regressor object \n",
    "regressor = RandomForestRegressor(n_estimators=25, random_state=10)\n",
    "\n",
    "# fit the regressor with X and Y data \n",
    "regressor.fit(X_train, Y_train)"
   ]
  },
  {
   "cell_type": "code",
   "execution_count": 50,
   "metadata": {},
   "outputs": [],
   "source": [
    "Y_predict = regressor.predict(X_test)"
   ]
  },
  {
   "cell_type": "code",
   "execution_count": 51,
   "metadata": {},
   "outputs": [
    {
     "name": "stdout",
     "output_type": "stream",
     "text": [
      "Root Mean Squared Error: 70778.31747854031\n",
      "R sqaure 0.9685029749685634\n"
     ]
    }
   ],
   "source": [
    "from sklearn import metrics\n",
    "\n",
    "print('Root Mean Squared Error:', np.sqrt(metrics.mean_squared_error(Y_test, Y_predict)))\n",
    "print('R sqaure',metrics.r2_score(Y_test,Y_predict))"
   ]
  },
  {
   "cell_type": "markdown",
   "metadata": {},
   "source": [
    "# Gradient Boosting"
   ]
  },
  {
   "cell_type": "code",
   "execution_count": 52,
   "metadata": {},
   "outputs": [
    {
     "data": {
      "text/plain": [
       "GradientBoostingRegressor()"
      ]
     },
     "execution_count": 52,
     "metadata": {},
     "output_type": "execute_result"
    }
   ],
   "source": [
    "from sklearn import datasets, ensemble\n",
    "reg = ensemble.GradientBoostingRegressor()\n",
    "reg.fit(X_train, Y_train)"
   ]
  },
  {
   "cell_type": "code",
   "execution_count": 53,
   "metadata": {},
   "outputs": [],
   "source": [
    "Y_predict = reg.predict(X_test)"
   ]
  },
  {
   "cell_type": "code",
   "execution_count": 54,
   "metadata": {},
   "outputs": [
    {
     "name": "stdout",
     "output_type": "stream",
     "text": [
      "R Squared: 0.9770940374156337\n",
      "Mean Abs Error: 33405.66366468045\n",
      "Mean Sqr Error: 3643170363.7155547\n",
      "Root Mean Sqr Error: 60358.68093087816\n"
     ]
    }
   ],
   "source": [
    "print('R Squared:',metrics.r2_score(Y_test,Y_predict))\n",
    "print('Mean Abs Error:',metrics.mean_absolute_error(Y_test,Y_predict))\n",
    "print('Mean Sqr Error:',metrics.mean_squared_error(Y_test,Y_predict))\n",
    "print('Root Mean Sqr Error:',np.sqrt(metrics.mean_squared_error(Y_test,Y_predict)))"
   ]
  }
 ],
 "metadata": {
  "kernelspec": {
   "display_name": "Python 3",
   "language": "python",
   "name": "python3"
  },
  "language_info": {
   "codemirror_mode": {
    "name": "ipython",
    "version": 3
   },
   "file_extension": ".py",
   "mimetype": "text/x-python",
   "name": "python",
   "nbconvert_exporter": "python",
   "pygments_lexer": "ipython3",
   "version": "3.8.3"
  }
 },
 "nbformat": 4,
 "nbformat_minor": 2
}
